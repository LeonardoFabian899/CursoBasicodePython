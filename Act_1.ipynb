{
  "nbformat": 4,
  "nbformat_minor": 0,
  "metadata": {
    "colab": {
      "provenance": [],
      "authorship_tag": "ABX9TyMibDPdqQZ3LctzBpbJaYcQ",
      "include_colab_link": true
    },
    "kernelspec": {
      "name": "python3",
      "display_name": "Python 3"
    },
    "language_info": {
      "name": "python"
    }
  },
  "cells": [
    {
      "cell_type": "markdown",
      "metadata": {
        "id": "view-in-github",
        "colab_type": "text"
      },
      "source": [
        "<a href=\"https://colab.research.google.com/github/LeonardoFabian899/CursoBasicodePython/blob/main/Act_1.ipynb\" target=\"_parent\"><img src=\"https://colab.research.google.com/assets/colab-badge.svg\" alt=\"Open In Colab\"/></a>"
      ]
    },
    {
      "cell_type": "markdown",
      "source": [
        "# Ejercicio Hola mundo"
      ],
      "metadata": {
        "id": "7m60P6_vms7v"
      }
    },
    {
      "cell_type": "code",
      "execution_count": null,
      "metadata": {
        "id": "FaEOKZ2-FuGG"
      },
      "outputs": [],
      "source": [
        "# Para crear una funcion en python\n",
        "# Usamos la palabra reservada 'def'\n",
        "\n",
        "def mi_primer_funcion() :\n",
        "  print(\"Hola, estoy dentro de la funcion 😎\")"
      ]
    },
    {
      "cell_type": "code",
      "source": [
        "mi_primer_funcion()"
      ],
      "metadata": {
        "colab": {
          "base_uri": "https://localhost:8080/"
        },
        "id": "AcRvoX3jNbuC",
        "outputId": "a13ce3d7-7181-4ff5-8302-729e35a34031"
      },
      "execution_count": null,
      "outputs": [
        {
          "output_type": "stream",
          "name": "stdout",
          "text": [
            "Hola, estoy dentro de la funcion 😎\n"
          ]
        }
      ]
    }
  ]
}