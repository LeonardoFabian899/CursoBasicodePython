{
  "nbformat": 4,
  "nbformat_minor": 0,
  "metadata": {
    "colab": {
      "provenance": [],
      "authorship_tag": "ABX9TyMr7I19TLTLrAHb1WQ1aCaS",
      "include_colab_link": true
    },
    "kernelspec": {
      "name": "python3",
      "display_name": "Python 3"
    },
    "language_info": {
      "name": "python"
    }
  },
  "cells": [
    {
      "cell_type": "markdown",
      "metadata": {
        "id": "view-in-github",
        "colab_type": "text"
      },
      "source": [
        "<a href=\"https://colab.research.google.com/github/LeonardoFabian899/CursoBasicodePython/blob/main/Actividad_12.ipynb\" target=\"_parent\"><img src=\"https://colab.research.google.com/assets/colab-badge.svg\" alt=\"Open In Colab\"/></a>"
      ]
    },
    {
      "cell_type": "markdown",
      "source": [
        "# Actividad\n",
        "\n",
        "Crear la clase **Galleta**, la cual reciba los siguiente argumentos:\n",
        "\n",
        "- sabor: string\n",
        "- diametro: float\n",
        "- chispas: bool\n",
        "\n",
        "La clase deberá regresar el peso de la galleta. Una galleta Oreo mide 4.4 cm de diametro con un peso de 11 g.\n",
        "\n",
        "Si la galleta tiene chispas, añade 2 gr al peso final.\n",
        "\n",
        "Ejemplo: Una galleta con chispas y un diametro de 4.4 cm, pesará 13 gr"
      ],
      "metadata": {
        "id": "4yB-n7GlQ1bX"
      }
    },
    {
      "cell_type": "code",
      "execution_count": 1,
      "metadata": {
        "id": "rG2jt5L4wDau"
      },
      "outputs": [],
      "source": [
        "class galleta:\n",
        "  def __init__(self, sabor, diametro, chispas):\n",
        "    self.sabor = str(input(sabor))\n",
        "    self.diametro = float(input(diametro))\n",
        "    self.chispas = str(input(chispas))\n",
        "    if self.chispas == \"si\":\n",
        "      peso = (self.diametro*11)/4.4 + 2\n",
        "    else:\n",
        "      peso = (self.diametro*11)/4.4\n",
        "    print(\"el peso de la galleta es: \",peso,\"gramos\")\n",
        "\n",
        "  def peso(self):\n",
        "    return"
      ]
    },
    {
      "cell_type": "code",
      "source": [
        "galleta(any, any, any)"
      ],
      "metadata": {
        "colab": {
          "base_uri": "https://localhost:8080/"
        },
        "id": "p1cYv1BdxTbk",
        "outputId": "f79df46b-5cca-487c-f7b1-472f84c98931"
      },
      "execution_count": 2,
      "outputs": [
        {
          "output_type": "stream",
          "name": "stdout",
          "text": [
            "<built-in function any>6\n",
            "<built-in function any>7\n",
            "<built-in function any>8\n",
            "el peso de la galleta es:  17.5 gramos\n"
          ]
        },
        {
          "output_type": "execute_result",
          "data": {
            "text/plain": [
              "<__main__.galleta at 0x79cd946a6410>"
            ]
          },
          "metadata": {},
          "execution_count": 2
        }
      ]
    }
  ]
}