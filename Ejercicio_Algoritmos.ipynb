{
  "nbformat": 4,
  "nbformat_minor": 0,
  "metadata": {
    "colab": {
      "provenance": [],
      "include_colab_link": true
    },
    "kernelspec": {
      "name": "python3",
      "display_name": "Python 3"
    },
    "language_info": {
      "name": "python"
    }
  },
  "cells": [
    {
      "cell_type": "markdown",
      "metadata": {
        "id": "view-in-github",
        "colab_type": "text"
      },
      "source": [
        "<a href=\"https://colab.research.google.com/github/LeonardoFabian899/CursoBasicodePython/blob/main/Ejercicio_Algoritmos.ipynb\" target=\"_parent\"><img src=\"https://colab.research.google.com/assets/colab-badge.svg\" alt=\"Open In Colab\"/></a>"
      ]
    },
    {
      "cell_type": "markdown",
      "metadata": {
        "id": "CpkgjubcxEL_"
      },
      "source": [
        "# 1. Desarrollando un algoritmo\n",
        "Escribir un programa que pregunte al usuario el radio de un circulo, calcule y regrese el área.\n",
        "\n",
        "**»»** Pasos <br>\n",
        "1. Solicitar el valor para el radio\n",
        "2. Aplicar la fórmula\n",
        "3. Imprimir el resultado\n",
        "\n",
        "\n",
        "**»»** Fórmula <br>\n",
        "area = 3.1416 * radio * radio\n",
        "\n",
        "Pidiendo el radio, usando la función input()\n",
        "<br>\n",
        "`radio = float(input(\"Ingresa el radio:\"))`\n",
        "<br>\n",
        "<br>\n",
        "Aplicando la fórmula\n",
        "<br>\n",
        "`area = (radio * radio) * 3.1415`\n",
        "<br>\n",
        "<br>\n",
        "Imprimento el resultado\n",
        "<br>\n",
        "`print(\"El área del círculo con radio\", radio, \"es:\", area)`\n",
        "<br>\n",
        "<br>\n",
        "**»»** Ejercicio:\n",
        "1. Redondear el resultado\n",
        "2. Cambiar (radio * radio) por radio al cuadrado\n"
      ]
    },
    {
      "cell_type": "code",
      "source": [
        "radio = float(input(\"Ingresa el radio:\"))"
      ],
      "metadata": {
        "colab": {
          "base_uri": "https://localhost:8080/"
        },
        "id": "ERp98p40hPkm",
        "outputId": "c2eee774-ab58-4a89-c83f-43c7e4ede966"
      },
      "execution_count": null,
      "outputs": [
        {
          "name": "stdout",
          "output_type": "stream",
          "text": [
            "Ingresa el radio:5\n"
          ]
        }
      ]
    },
    {
      "cell_type": "code",
      "source": [
        "print(radio)"
      ],
      "metadata": {
        "colab": {
          "base_uri": "https://localhost:8080/"
        },
        "id": "MgxVJIa5hTcu",
        "outputId": "85d01392-d812-441a-9665-5a89781c6b23"
      },
      "execution_count": null,
      "outputs": [
        {
          "output_type": "stream",
          "name": "stdout",
          "text": [
            "5.0\n"
          ]
        }
      ]
    },
    {
      "cell_type": "code",
      "metadata": {
        "colab": {
          "base_uri": "https://localhost:8080/"
        },
        "id": "uT-h8K4Ro252",
        "outputId": "4a81a965-aacf-4868-9e8d-5a7f6729f206"
      },
      "source": [
        "radio = float(input(\"Ingresa el radio:\"))\n",
        "area = (radio * radio) * 3.1415\n",
        "print(\"El área del círculo con radio\", radio, \"es:\", area)"
      ],
      "execution_count": null,
      "outputs": [
        {
          "output_type": "stream",
          "name": "stdout",
          "text": [
            "Ingresa el radio:5\n",
            "El área del círculo con radio 5.0 es: 78.53750000000001\n"
          ]
        }
      ]
    },
    {
      "cell_type": "markdown",
      "source": [
        "# Ejercicios:"
      ],
      "metadata": {
        "id": "UbzA_tmH8ycd"
      }
    },
    {
      "cell_type": "markdown",
      "metadata": {
        "id": "8O9HFvr51AD5"
      },
      "source": [
        "# I. Múltiplos de 3 y 5\n",
        "\n",
        "Si enumeramos todos los números naturales **por debajo** de 10 que son **múltiplos de 3 o 5**, obtenemos 3, 5, 6 y 9. La **suma** de estos múltiplos es 23.\n",
        "\n",
        "Encuentra la **suma** de todos los múltiplos de 3 o 5 por debajo de 1000.\n",
        "\n",
        "**»»** Pasos <br>\n",
        "1. Identificar múltiplos de 3 o 5  [función es_multiplo]\n",
        "2. Obtener todos los múltiplos por debajo de 10 usando range(10)\n",
        "3. Usar un condicional para sumar los números que son múltiplos en una variable.\n",
        "\n",
        "\n",
        "**»»** Identificar si es múltiplo de 3 o 5\n",
        "<br>\n",
        "Una forma de saber si es múltiplo de un número es usando módulo, mod o el operador %, ya que el residuo será 0.\n",
        "```\n",
        "# num_test = variable, puede ser cualquier número.\n",
        "# suma = 0\n",
        "Si numero mod 3 es igual 0 ó numero mod 5 es igual a 0:\n",
        "    # sumar num_test en la variable suma\n",
        "De otro modo:\n",
        "    # pasar\n",
        "```\n",
        "\n",
        "```\n",
        ">>> print(suma) # Resultado\n",
        "233168\n",
        "\n",
        "```\n",
        "\n",
        "\n",
        "\n",
        "**»» Retos**:\n",
        "<br>\n",
        "- Escribe el código en menos de 6 líneas de código (intermedio)\n",
        "- Guarda los números que son múltiplos de 3 o 5 en una lista y después sumar los elementos de la lista.\n",
        "- Escribe tu código en 1 línea (avanzado). (Tip usa **List comprehension**)"
      ]
    },
    {
      "cell_type": "code",
      "source": [
        "# Aquí va tu código\n",
        "\n",
        "from functools import reduce\n",
        "\n",
        "numeros = []\n",
        "for i in range (1, 1001):\n",
        "  numeros.append(i)\n",
        "print(numeros)\n",
        "filtrados = list(filter(lambda x : x % 3 == 0 or x % 5 == 0, numeros))\n",
        "\n",
        "print(filtrados)\n",
        "total = reduce(lambda y, z: y + z,filtrados)\n",
        "print(total)"
      ],
      "metadata": {
        "id": "fPlTiYgW97HZ",
        "colab": {
          "base_uri": "https://localhost:8080/"
        },
        "outputId": "a474be6b-cd57-4e21-d80c-93b4d9f91ef2"
      },
      "execution_count": null,
      "outputs": [
        {
          "output_type": "stream",
          "name": "stdout",
          "text": [
            "[1, 2, 3, 4, 5, 6, 7, 8, 9, 10, 11, 12, 13, 14, 15, 16, 17, 18, 19, 20, 21, 22, 23, 24, 25, 26, 27, 28, 29, 30, 31, 32, 33, 34, 35, 36, 37, 38, 39, 40, 41, 42, 43, 44, 45, 46, 47, 48, 49, 50, 51, 52, 53, 54, 55, 56, 57, 58, 59, 60, 61, 62, 63, 64, 65, 66, 67, 68, 69, 70, 71, 72, 73, 74, 75, 76, 77, 78, 79, 80, 81, 82, 83, 84, 85, 86, 87, 88, 89, 90, 91, 92, 93, 94, 95, 96, 97, 98, 99, 100, 101, 102, 103, 104, 105, 106, 107, 108, 109, 110, 111, 112, 113, 114, 115, 116, 117, 118, 119, 120, 121, 122, 123, 124, 125, 126, 127, 128, 129, 130, 131, 132, 133, 134, 135, 136, 137, 138, 139, 140, 141, 142, 143, 144, 145, 146, 147, 148, 149, 150, 151, 152, 153, 154, 155, 156, 157, 158, 159, 160, 161, 162, 163, 164, 165, 166, 167, 168, 169, 170, 171, 172, 173, 174, 175, 176, 177, 178, 179, 180, 181, 182, 183, 184, 185, 186, 187, 188, 189, 190, 191, 192, 193, 194, 195, 196, 197, 198, 199, 200, 201, 202, 203, 204, 205, 206, 207, 208, 209, 210, 211, 212, 213, 214, 215, 216, 217, 218, 219, 220, 221, 222, 223, 224, 225, 226, 227, 228, 229, 230, 231, 232, 233, 234, 235, 236, 237, 238, 239, 240, 241, 242, 243, 244, 245, 246, 247, 248, 249, 250, 251, 252, 253, 254, 255, 256, 257, 258, 259, 260, 261, 262, 263, 264, 265, 266, 267, 268, 269, 270, 271, 272, 273, 274, 275, 276, 277, 278, 279, 280, 281, 282, 283, 284, 285, 286, 287, 288, 289, 290, 291, 292, 293, 294, 295, 296, 297, 298, 299, 300, 301, 302, 303, 304, 305, 306, 307, 308, 309, 310, 311, 312, 313, 314, 315, 316, 317, 318, 319, 320, 321, 322, 323, 324, 325, 326, 327, 328, 329, 330, 331, 332, 333, 334, 335, 336, 337, 338, 339, 340, 341, 342, 343, 344, 345, 346, 347, 348, 349, 350, 351, 352, 353, 354, 355, 356, 357, 358, 359, 360, 361, 362, 363, 364, 365, 366, 367, 368, 369, 370, 371, 372, 373, 374, 375, 376, 377, 378, 379, 380, 381, 382, 383, 384, 385, 386, 387, 388, 389, 390, 391, 392, 393, 394, 395, 396, 397, 398, 399, 400, 401, 402, 403, 404, 405, 406, 407, 408, 409, 410, 411, 412, 413, 414, 415, 416, 417, 418, 419, 420, 421, 422, 423, 424, 425, 426, 427, 428, 429, 430, 431, 432, 433, 434, 435, 436, 437, 438, 439, 440, 441, 442, 443, 444, 445, 446, 447, 448, 449, 450, 451, 452, 453, 454, 455, 456, 457, 458, 459, 460, 461, 462, 463, 464, 465, 466, 467, 468, 469, 470, 471, 472, 473, 474, 475, 476, 477, 478, 479, 480, 481, 482, 483, 484, 485, 486, 487, 488, 489, 490, 491, 492, 493, 494, 495, 496, 497, 498, 499, 500, 501, 502, 503, 504, 505, 506, 507, 508, 509, 510, 511, 512, 513, 514, 515, 516, 517, 518, 519, 520, 521, 522, 523, 524, 525, 526, 527, 528, 529, 530, 531, 532, 533, 534, 535, 536, 537, 538, 539, 540, 541, 542, 543, 544, 545, 546, 547, 548, 549, 550, 551, 552, 553, 554, 555, 556, 557, 558, 559, 560, 561, 562, 563, 564, 565, 566, 567, 568, 569, 570, 571, 572, 573, 574, 575, 576, 577, 578, 579, 580, 581, 582, 583, 584, 585, 586, 587, 588, 589, 590, 591, 592, 593, 594, 595, 596, 597, 598, 599, 600, 601, 602, 603, 604, 605, 606, 607, 608, 609, 610, 611, 612, 613, 614, 615, 616, 617, 618, 619, 620, 621, 622, 623, 624, 625, 626, 627, 628, 629, 630, 631, 632, 633, 634, 635, 636, 637, 638, 639, 640, 641, 642, 643, 644, 645, 646, 647, 648, 649, 650, 651, 652, 653, 654, 655, 656, 657, 658, 659, 660, 661, 662, 663, 664, 665, 666, 667, 668, 669, 670, 671, 672, 673, 674, 675, 676, 677, 678, 679, 680, 681, 682, 683, 684, 685, 686, 687, 688, 689, 690, 691, 692, 693, 694, 695, 696, 697, 698, 699, 700, 701, 702, 703, 704, 705, 706, 707, 708, 709, 710, 711, 712, 713, 714, 715, 716, 717, 718, 719, 720, 721, 722, 723, 724, 725, 726, 727, 728, 729, 730, 731, 732, 733, 734, 735, 736, 737, 738, 739, 740, 741, 742, 743, 744, 745, 746, 747, 748, 749, 750, 751, 752, 753, 754, 755, 756, 757, 758, 759, 760, 761, 762, 763, 764, 765, 766, 767, 768, 769, 770, 771, 772, 773, 774, 775, 776, 777, 778, 779, 780, 781, 782, 783, 784, 785, 786, 787, 788, 789, 790, 791, 792, 793, 794, 795, 796, 797, 798, 799, 800, 801, 802, 803, 804, 805, 806, 807, 808, 809, 810, 811, 812, 813, 814, 815, 816, 817, 818, 819, 820, 821, 822, 823, 824, 825, 826, 827, 828, 829, 830, 831, 832, 833, 834, 835, 836, 837, 838, 839, 840, 841, 842, 843, 844, 845, 846, 847, 848, 849, 850, 851, 852, 853, 854, 855, 856, 857, 858, 859, 860, 861, 862, 863, 864, 865, 866, 867, 868, 869, 870, 871, 872, 873, 874, 875, 876, 877, 878, 879, 880, 881, 882, 883, 884, 885, 886, 887, 888, 889, 890, 891, 892, 893, 894, 895, 896, 897, 898, 899, 900, 901, 902, 903, 904, 905, 906, 907, 908, 909, 910, 911, 912, 913, 914, 915, 916, 917, 918, 919, 920, 921, 922, 923, 924, 925, 926, 927, 928, 929, 930, 931, 932, 933, 934, 935, 936, 937, 938, 939, 940, 941, 942, 943, 944, 945, 946, 947, 948, 949, 950, 951, 952, 953, 954, 955, 956, 957, 958, 959, 960, 961, 962, 963, 964, 965, 966, 967, 968, 969, 970, 971, 972, 973, 974, 975, 976, 977, 978, 979, 980, 981, 982, 983, 984, 985, 986, 987, 988, 989, 990, 991, 992, 993, 994, 995, 996, 997, 998, 999, 1000]\n",
            "[3, 5, 6, 9, 10, 12, 15, 18, 20, 21, 24, 25, 27, 30, 33, 35, 36, 39, 40, 42, 45, 48, 50, 51, 54, 55, 57, 60, 63, 65, 66, 69, 70, 72, 75, 78, 80, 81, 84, 85, 87, 90, 93, 95, 96, 99, 100, 102, 105, 108, 110, 111, 114, 115, 117, 120, 123, 125, 126, 129, 130, 132, 135, 138, 140, 141, 144, 145, 147, 150, 153, 155, 156, 159, 160, 162, 165, 168, 170, 171, 174, 175, 177, 180, 183, 185, 186, 189, 190, 192, 195, 198, 200, 201, 204, 205, 207, 210, 213, 215, 216, 219, 220, 222, 225, 228, 230, 231, 234, 235, 237, 240, 243, 245, 246, 249, 250, 252, 255, 258, 260, 261, 264, 265, 267, 270, 273, 275, 276, 279, 280, 282, 285, 288, 290, 291, 294, 295, 297, 300, 303, 305, 306, 309, 310, 312, 315, 318, 320, 321, 324, 325, 327, 330, 333, 335, 336, 339, 340, 342, 345, 348, 350, 351, 354, 355, 357, 360, 363, 365, 366, 369, 370, 372, 375, 378, 380, 381, 384, 385, 387, 390, 393, 395, 396, 399, 400, 402, 405, 408, 410, 411, 414, 415, 417, 420, 423, 425, 426, 429, 430, 432, 435, 438, 440, 441, 444, 445, 447, 450, 453, 455, 456, 459, 460, 462, 465, 468, 470, 471, 474, 475, 477, 480, 483, 485, 486, 489, 490, 492, 495, 498, 500, 501, 504, 505, 507, 510, 513, 515, 516, 519, 520, 522, 525, 528, 530, 531, 534, 535, 537, 540, 543, 545, 546, 549, 550, 552, 555, 558, 560, 561, 564, 565, 567, 570, 573, 575, 576, 579, 580, 582, 585, 588, 590, 591, 594, 595, 597, 600, 603, 605, 606, 609, 610, 612, 615, 618, 620, 621, 624, 625, 627, 630, 633, 635, 636, 639, 640, 642, 645, 648, 650, 651, 654, 655, 657, 660, 663, 665, 666, 669, 670, 672, 675, 678, 680, 681, 684, 685, 687, 690, 693, 695, 696, 699, 700, 702, 705, 708, 710, 711, 714, 715, 717, 720, 723, 725, 726, 729, 730, 732, 735, 738, 740, 741, 744, 745, 747, 750, 753, 755, 756, 759, 760, 762, 765, 768, 770, 771, 774, 775, 777, 780, 783, 785, 786, 789, 790, 792, 795, 798, 800, 801, 804, 805, 807, 810, 813, 815, 816, 819, 820, 822, 825, 828, 830, 831, 834, 835, 837, 840, 843, 845, 846, 849, 850, 852, 855, 858, 860, 861, 864, 865, 867, 870, 873, 875, 876, 879, 880, 882, 885, 888, 890, 891, 894, 895, 897, 900, 903, 905, 906, 909, 910, 912, 915, 918, 920, 921, 924, 925, 927, 930, 933, 935, 936, 939, 940, 942, 945, 948, 950, 951, 954, 955, 957, 960, 963, 965, 966, 969, 970, 972, 975, 978, 980, 981, 984, 985, 987, 990, 993, 995, 996, 999, 1000]\n",
            "234168\n"
          ]
        }
      ]
    },
    {
      "cell_type": "markdown",
      "metadata": {
        "id": "qHp3Rvz7RU8-"
      },
      "source": [
        "# II. Números pares Fibonacci <br>\n",
        "Cada nuevo número de la secuencia de Fibonacci se genera sumando los dos números anteriores. Al comenzar con 0 y 1:\n",
        "\n",
        "0, 1, 1, 2, 3, 5, 8, 13, 21, 34, 55, 89, ...\n",
        "\n",
        "Al considerar los números en la secuencia de Fibonacci cuyo valor no sea mayor o igual a cuatro millones, encuentre la suma de los términos pares.\n",
        "\n",
        "\n",
        "**»»** Pasos <br>\n",
        "1. Crear secuencia Fibonacci\n",
        "2. Identificar números pares\n",
        "3. Si es número par sumar\n",
        "4. Si mi número Fibonacci es mayor o igual a cuatro millones dejar de ejecutar proceso"
      ]
    },
    {
      "cell_type": "markdown",
      "metadata": {
        "id": "jM87HfatcOtM"
      },
      "source": [
        "**Tips**\n",
        "- Usa bucles\n",
        "- Usar 3 variables: suma, temporal, fibonacci\n",
        "- Recuerda las asignaciones múltiples"
      ]
    },
    {
      "cell_type": "markdown",
      "metadata": {
        "id": "QjAaiLXidwpK"
      },
      "source": [
        "#### Paso 2: Encontrar números pares<br>\n",
        "**Tips**\n",
        "- Usar operador mod"
      ]
    },
    {
      "cell_type": "markdown",
      "metadata": {
        "id": "touACPkteCtX"
      },
      "source": [
        "#### Paso 3: Si es par sumar\n",
        "Usa condicional if"
      ]
    },
    {
      "cell_type": "markdown",
      "metadata": {
        "id": "_kP__ZxgeLOY"
      },
      "source": [
        "#### Paso 4: Si el número fibonacci es mayor a 4, 000, 000 finalizar ejecución\n",
        "<br>\n"
      ]
    },
    {
      "cell_type": "markdown",
      "metadata": {
        "id": "Z1ztourWcC_a"
      },
      "source": [
        "Resultado esperado:\n",
        "```\n",
        ">>> print(sum)\n",
        "4613732\n",
        "```"
      ]
    },
    {
      "cell_type": "code",
      "source": [
        "# Aquí va tu código\n",
        "\n",
        "x = 0\n",
        "y = 1\n",
        "lista = []\n",
        "lista1 = [x, y]\n",
        "lista2 = []\n",
        "suma = 0\n",
        "\n",
        "for i in range(32):\n",
        "  z = x + y\n",
        "  x = y\n",
        "  y = z\n",
        "  lista1.append(2)\n",
        "  if (z % 2 == 0):\n",
        "    suma = suma + z\n",
        "    lista.append(z)\n",
        "  if (z % 2 == 0):\n",
        "    suma = suma + z\n",
        "    lista.append(z)\n",
        "  if (z >= 4000000):\n",
        "    break\n",
        "  print(f\"La lista de numeros es; {lista1}\")\n",
        "  print(f\"La lista de numeros pares es: {lista}\")\n",
        "  print(f\"La suma de numeros pares es: {suma}\")"
      ],
      "metadata": {
        "id": "z-PySw67949E",
        "colab": {
          "base_uri": "https://localhost:8080/"
        },
        "outputId": "eda8d323-e02f-4048-e185-1dcc2951147d"
      },
      "execution_count": 12,
      "outputs": [
        {
          "output_type": "stream",
          "name": "stdout",
          "text": [
            "La lista de numeros es; [0, 1, 2]\n",
            "La lista de numeros pares es: []\n",
            "La suma de numeros pares es: 0\n",
            "La lista de numeros es; [0, 1, 2, 2]\n",
            "La lista de numeros pares es: [2, 2]\n",
            "La suma de numeros pares es: 4\n",
            "La lista de numeros es; [0, 1, 2, 2, 2]\n",
            "La lista de numeros pares es: [2, 2]\n",
            "La suma de numeros pares es: 4\n",
            "La lista de numeros es; [0, 1, 2, 2, 2, 2]\n",
            "La lista de numeros pares es: [2, 2]\n",
            "La suma de numeros pares es: 4\n",
            "La lista de numeros es; [0, 1, 2, 2, 2, 2, 2]\n",
            "La lista de numeros pares es: [2, 2, 8, 8]\n",
            "La suma de numeros pares es: 20\n",
            "La lista de numeros es; [0, 1, 2, 2, 2, 2, 2, 2]\n",
            "La lista de numeros pares es: [2, 2, 8, 8]\n",
            "La suma de numeros pares es: 20\n",
            "La lista de numeros es; [0, 1, 2, 2, 2, 2, 2, 2, 2]\n",
            "La lista de numeros pares es: [2, 2, 8, 8]\n",
            "La suma de numeros pares es: 20\n",
            "La lista de numeros es; [0, 1, 2, 2, 2, 2, 2, 2, 2, 2]\n",
            "La lista de numeros pares es: [2, 2, 8, 8, 34, 34]\n",
            "La suma de numeros pares es: 88\n",
            "La lista de numeros es; [0, 1, 2, 2, 2, 2, 2, 2, 2, 2, 2]\n",
            "La lista de numeros pares es: [2, 2, 8, 8, 34, 34]\n",
            "La suma de numeros pares es: 88\n",
            "La lista de numeros es; [0, 1, 2, 2, 2, 2, 2, 2, 2, 2, 2, 2]\n",
            "La lista de numeros pares es: [2, 2, 8, 8, 34, 34]\n",
            "La suma de numeros pares es: 88\n",
            "La lista de numeros es; [0, 1, 2, 2, 2, 2, 2, 2, 2, 2, 2, 2, 2]\n",
            "La lista de numeros pares es: [2, 2, 8, 8, 34, 34, 144, 144]\n",
            "La suma de numeros pares es: 376\n",
            "La lista de numeros es; [0, 1, 2, 2, 2, 2, 2, 2, 2, 2, 2, 2, 2, 2]\n",
            "La lista de numeros pares es: [2, 2, 8, 8, 34, 34, 144, 144]\n",
            "La suma de numeros pares es: 376\n",
            "La lista de numeros es; [0, 1, 2, 2, 2, 2, 2, 2, 2, 2, 2, 2, 2, 2, 2]\n",
            "La lista de numeros pares es: [2, 2, 8, 8, 34, 34, 144, 144]\n",
            "La suma de numeros pares es: 376\n",
            "La lista de numeros es; [0, 1, 2, 2, 2, 2, 2, 2, 2, 2, 2, 2, 2, 2, 2, 2]\n",
            "La lista de numeros pares es: [2, 2, 8, 8, 34, 34, 144, 144, 610, 610]\n",
            "La suma de numeros pares es: 1596\n",
            "La lista de numeros es; [0, 1, 2, 2, 2, 2, 2, 2, 2, 2, 2, 2, 2, 2, 2, 2, 2]\n",
            "La lista de numeros pares es: [2, 2, 8, 8, 34, 34, 144, 144, 610, 610]\n",
            "La suma de numeros pares es: 1596\n",
            "La lista de numeros es; [0, 1, 2, 2, 2, 2, 2, 2, 2, 2, 2, 2, 2, 2, 2, 2, 2, 2]\n",
            "La lista de numeros pares es: [2, 2, 8, 8, 34, 34, 144, 144, 610, 610]\n",
            "La suma de numeros pares es: 1596\n",
            "La lista de numeros es; [0, 1, 2, 2, 2, 2, 2, 2, 2, 2, 2, 2, 2, 2, 2, 2, 2, 2, 2]\n",
            "La lista de numeros pares es: [2, 2, 8, 8, 34, 34, 144, 144, 610, 610, 2584, 2584]\n",
            "La suma de numeros pares es: 6764\n",
            "La lista de numeros es; [0, 1, 2, 2, 2, 2, 2, 2, 2, 2, 2, 2, 2, 2, 2, 2, 2, 2, 2, 2]\n",
            "La lista de numeros pares es: [2, 2, 8, 8, 34, 34, 144, 144, 610, 610, 2584, 2584]\n",
            "La suma de numeros pares es: 6764\n",
            "La lista de numeros es; [0, 1, 2, 2, 2, 2, 2, 2, 2, 2, 2, 2, 2, 2, 2, 2, 2, 2, 2, 2, 2]\n",
            "La lista de numeros pares es: [2, 2, 8, 8, 34, 34, 144, 144, 610, 610, 2584, 2584]\n",
            "La suma de numeros pares es: 6764\n",
            "La lista de numeros es; [0, 1, 2, 2, 2, 2, 2, 2, 2, 2, 2, 2, 2, 2, 2, 2, 2, 2, 2, 2, 2, 2]\n",
            "La lista de numeros pares es: [2, 2, 8, 8, 34, 34, 144, 144, 610, 610, 2584, 2584, 10946, 10946]\n",
            "La suma de numeros pares es: 28656\n",
            "La lista de numeros es; [0, 1, 2, 2, 2, 2, 2, 2, 2, 2, 2, 2, 2, 2, 2, 2, 2, 2, 2, 2, 2, 2, 2]\n",
            "La lista de numeros pares es: [2, 2, 8, 8, 34, 34, 144, 144, 610, 610, 2584, 2584, 10946, 10946]\n",
            "La suma de numeros pares es: 28656\n",
            "La lista de numeros es; [0, 1, 2, 2, 2, 2, 2, 2, 2, 2, 2, 2, 2, 2, 2, 2, 2, 2, 2, 2, 2, 2, 2, 2]\n",
            "La lista de numeros pares es: [2, 2, 8, 8, 34, 34, 144, 144, 610, 610, 2584, 2584, 10946, 10946]\n",
            "La suma de numeros pares es: 28656\n",
            "La lista de numeros es; [0, 1, 2, 2, 2, 2, 2, 2, 2, 2, 2, 2, 2, 2, 2, 2, 2, 2, 2, 2, 2, 2, 2, 2, 2]\n",
            "La lista de numeros pares es: [2, 2, 8, 8, 34, 34, 144, 144, 610, 610, 2584, 2584, 10946, 10946, 46368, 46368]\n",
            "La suma de numeros pares es: 121392\n",
            "La lista de numeros es; [0, 1, 2, 2, 2, 2, 2, 2, 2, 2, 2, 2, 2, 2, 2, 2, 2, 2, 2, 2, 2, 2, 2, 2, 2, 2]\n",
            "La lista de numeros pares es: [2, 2, 8, 8, 34, 34, 144, 144, 610, 610, 2584, 2584, 10946, 10946, 46368, 46368]\n",
            "La suma de numeros pares es: 121392\n",
            "La lista de numeros es; [0, 1, 2, 2, 2, 2, 2, 2, 2, 2, 2, 2, 2, 2, 2, 2, 2, 2, 2, 2, 2, 2, 2, 2, 2, 2, 2]\n",
            "La lista de numeros pares es: [2, 2, 8, 8, 34, 34, 144, 144, 610, 610, 2584, 2584, 10946, 10946, 46368, 46368]\n",
            "La suma de numeros pares es: 121392\n",
            "La lista de numeros es; [0, 1, 2, 2, 2, 2, 2, 2, 2, 2, 2, 2, 2, 2, 2, 2, 2, 2, 2, 2, 2, 2, 2, 2, 2, 2, 2, 2]\n",
            "La lista de numeros pares es: [2, 2, 8, 8, 34, 34, 144, 144, 610, 610, 2584, 2584, 10946, 10946, 46368, 46368, 196418, 196418]\n",
            "La suma de numeros pares es: 514228\n",
            "La lista de numeros es; [0, 1, 2, 2, 2, 2, 2, 2, 2, 2, 2, 2, 2, 2, 2, 2, 2, 2, 2, 2, 2, 2, 2, 2, 2, 2, 2, 2, 2]\n",
            "La lista de numeros pares es: [2, 2, 8, 8, 34, 34, 144, 144, 610, 610, 2584, 2584, 10946, 10946, 46368, 46368, 196418, 196418]\n",
            "La suma de numeros pares es: 514228\n",
            "La lista de numeros es; [0, 1, 2, 2, 2, 2, 2, 2, 2, 2, 2, 2, 2, 2, 2, 2, 2, 2, 2, 2, 2, 2, 2, 2, 2, 2, 2, 2, 2, 2]\n",
            "La lista de numeros pares es: [2, 2, 8, 8, 34, 34, 144, 144, 610, 610, 2584, 2584, 10946, 10946, 46368, 46368, 196418, 196418]\n",
            "La suma de numeros pares es: 514228\n",
            "La lista de numeros es; [0, 1, 2, 2, 2, 2, 2, 2, 2, 2, 2, 2, 2, 2, 2, 2, 2, 2, 2, 2, 2, 2, 2, 2, 2, 2, 2, 2, 2, 2, 2]\n",
            "La lista de numeros pares es: [2, 2, 8, 8, 34, 34, 144, 144, 610, 610, 2584, 2584, 10946, 10946, 46368, 46368, 196418, 196418, 832040, 832040]\n",
            "La suma de numeros pares es: 2178308\n",
            "La lista de numeros es; [0, 1, 2, 2, 2, 2, 2, 2, 2, 2, 2, 2, 2, 2, 2, 2, 2, 2, 2, 2, 2, 2, 2, 2, 2, 2, 2, 2, 2, 2, 2, 2]\n",
            "La lista de numeros pares es: [2, 2, 8, 8, 34, 34, 144, 144, 610, 610, 2584, 2584, 10946, 10946, 46368, 46368, 196418, 196418, 832040, 832040]\n",
            "La suma de numeros pares es: 2178308\n",
            "La lista de numeros es; [0, 1, 2, 2, 2, 2, 2, 2, 2, 2, 2, 2, 2, 2, 2, 2, 2, 2, 2, 2, 2, 2, 2, 2, 2, 2, 2, 2, 2, 2, 2, 2, 2]\n",
            "La lista de numeros pares es: [2, 2, 8, 8, 34, 34, 144, 144, 610, 610, 2584, 2584, 10946, 10946, 46368, 46368, 196418, 196418, 832040, 832040]\n",
            "La suma de numeros pares es: 2178308\n",
            "La lista de numeros es; [0, 1, 2, 2, 2, 2, 2, 2, 2, 2, 2, 2, 2, 2, 2, 2, 2, 2, 2, 2, 2, 2, 2, 2, 2, 2, 2, 2, 2, 2, 2, 2, 2, 2]\n",
            "La lista de numeros pares es: [2, 2, 8, 8, 34, 34, 144, 144, 610, 610, 2584, 2584, 10946, 10946, 46368, 46368, 196418, 196418, 832040, 832040, 3524578, 3524578]\n",
            "La suma de numeros pares es: 9227464\n"
          ]
        }
      ]
    },
    {
      "cell_type": "markdown",
      "metadata": {
        "id": "s_W1r-_UfbYQ"
      },
      "source": [
        "# III. Producto palíndromo más grande\n",
        "<br>\n",
        "Un número palindrómico (Capicúa) se lee igual en ambos sentidos. El palíndromo más grande hecho del producto de dos números de 2 dígitos es 9009 = 91 × 99.\n",
        "\n",
        "Encuentra el palíndromo más grande formado por el producto de dos números de 3 dígitos.\n",
        "\n",
        "**»»** Pasos <br>\n",
        "1. Identificar si un número es Capicúa\n",
        "2. Realizar combinaciones de dos números de 2 dígitos y guardar el producto con el mayor valor\n",
        "3. Obtener 9009, para validar algoritmo\n",
        "4. Realizar combinaciones para dos números de 3 dígitos"
      ]
    },
    {
      "cell_type": "markdown",
      "metadata": {
        "id": "rJgosH2xg_eJ"
      },
      "source": [
        "#### Paso 1: Identificar si es Capicúa\n",
        "Convierte el número a string y revisa si es palindromo apoyandote del truco de rebanar (**slicing**) de las listas. Recuerda que también se puede aplicar a una cadena de caracteres (dato de tipo string)."
      ]
    },
    {
      "cell_type": "markdown",
      "metadata": {
        "id": "afEdx0kwiFXW"
      },
      "source": [
        "#### Paso 2: Realizar combinaciones\n",
        "<br>\n",
        "Obtén el múltiplo de 2 números de 2 dígitos. Usa ciclo for y la función range. Recuerda usar los ciclos anidados."
      ]
    },
    {
      "cell_type": "markdown",
      "metadata": {
        "id": "Q-Rcoa9Zij9n"
      },
      "source": [
        "#### Paso 3: Prueba tu algoritmo\n",
        "Deberías obtener 9009, como el producto capicúa más grande, al usar dos números de dos digítos"
      ]
    },
    {
      "cell_type": "markdown",
      "metadata": {
        "id": "Moky8Zlkiyp6"
      },
      "source": [
        "#### Paso 4: Modifica tu código para obtener el capicúa más grande al usar dos números de 3 digítos"
      ]
    },
    {
      "cell_type": "markdown",
      "metadata": {
        "id": "E7gYJNRfjg53"
      },
      "source": [
        "```\n",
        "# Resultado para el producto capicúa más grande de dos números de tres digítos\n",
        ">>> print(capicua)\n",
        "906609\n",
        "```"
      ]
    },
    {
      "cell_type": "markdown",
      "metadata": {
        "id": "mRgyprrnjrkQ"
      },
      "source": [
        "**Retos**\n",
        "- Escribe tú código en menos de 10 líneas de código (dificultad media) o <br>\n",
        "en menos de 7 líneas de código (dificultada avanzado). Tip: Usa operador ternario https://ellibrodepython.com/if-python#operador-ternario\n",
        "- Encuentra el capicúa más grande múltiplo de 5, producto de usar dos números de tres digítos\n",
        "\n",
        "```\n",
        "# Resultado para el producto capicúa más grande de dos números de tres digítos y múltiplo de 5\n",
        ">>> print(capicua)\n",
        "595595\n",
        "```\n"
      ]
    },
    {
      "cell_type": "code",
      "source": [
        "# Aquí va tu código\n",
        "\n",
        "#acum = 0\n",
        "numeros_unicos = set()\n",
        "for i in range(100):\n",
        "  for j in range(100):\n",
        "    numero = j * i\n",
        "    if numero >= 100:\n",
        "      conversion_de_entero_s_string = str(numero)\n",
        "      if conversion_de_entero_s_string == conversion_de_entero_s_string[::-1]:\n",
        "        #acum+=1\n",
        "        numeros_unicos.add(conversion_de_entero_s_string)\n",
        "\n",
        "numeros_unicos_ordenados = sorted(list(numeros_unicos))\n",
        "print(numeros_unicos_ordenados)\n",
        "print(f\"La cantidad de numeros capicua es: {len(numeros_unicos)}\")"
      ],
      "metadata": {
        "id": "bQCRh-1U9v_f",
        "colab": {
          "base_uri": "https://localhost:8080/"
        },
        "outputId": "aa8d6f6e-89f3-41f1-f916-80e3ad2f6fd9"
      },
      "execution_count": null,
      "outputs": [
        {
          "output_type": "stream",
          "name": "stdout",
          "text": [
            "['1001', '111', '121', '1221', '141', '1551', '161', '171', '1771', '1881', '2002', '2112', '212', '222', '232', '2332', '242', '2442', '252', '2552', '272', '2772', '282', '292', '2992', '3003', '323', '333', '343', '363', '3663', '3773', '4004', '414', '4224', '424', '434', '444', '4554', '464', '4664', '474', '4774', '484', '4884', '494', '5005', '5115', '5225', '525', '5335', '5445', '555', '575', '5775', '585', '595', '6006', '616', '6336', '636', '646', '656', '666', '676', '6776', '686', '696', '7007', '7227', '737', '747', '767', '777', '8008', '8118', '828', '8448', '848', '858', '868', '888', '9009', '949', '969', '979', '989', '999']\n",
            "La cantidad de numeros capicua es: 88\n"
          ]
        }
      ]
    }
  ]
}