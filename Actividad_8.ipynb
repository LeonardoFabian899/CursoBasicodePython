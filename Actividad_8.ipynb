{
  "nbformat": 4,
  "nbformat_minor": 0,
  "metadata": {
    "colab": {
      "provenance": [],
      "include_colab_link": true
    },
    "kernelspec": {
      "name": "python3",
      "display_name": "Python 3"
    },
    "language_info": {
      "name": "python"
    }
  },
  "cells": [
    {
      "cell_type": "markdown",
      "metadata": {
        "id": "view-in-github",
        "colab_type": "text"
      },
      "source": [
        "<a href=\"https://colab.research.google.com/github/LeonardoFabian899/CursoBasicodePython/blob/main/Actividad_8.ipynb\" target=\"_parent\"><img src=\"https://colab.research.google.com/assets/colab-badge.svg\" alt=\"Open In Colab\"/></a>"
      ]
    },
    {
      "cell_type": "code",
      "execution_count": 18,
      "metadata": {
        "colab": {
          "base_uri": "https://localhost:8080/"
        },
        "id": "LwXf8nbH7fXn",
        "outputId": "c2cbd546-3bbd-4fbf-8ebc-8b7e52671953"
      },
      "outputs": [
        {
          "output_type": "stream",
          "name": "stdout",
          "text": [
            "Se han invertido las líneas del archivo 'entrada.txt' y se han guardado en el archivo 'salida.txt'.\n"
          ]
        }
      ],
      "source": [
        "from collections import OrderedDict, Counter\n",
        "import re\n",
        "\n",
        "def invertir_lineas(nombre_archivo_entrada, nombre_archivo_salida):\n",
        "    with open(nombre_archivo_entrada, 'r') as archivo_entrada:\n",
        "        lineas = archivo_entrada.readlines()\n",
        "\n",
        "    lineas_invertidas = lineas[::-1]\n",
        "\n",
        "    with open(nombre_archivo_salida, 'w') as archivo_salida:\n",
        "        archivo_salida.writelines(lineas_invertidas)\n",
        "\n",
        "# Nombre del archivo de entrada y salida\n",
        "archivo_entrada = 'entrada.txt'\n",
        "archivo_salida = 'salida.txt'\n",
        "\n",
        "# Llamar a la función para invertir las líneas\n",
        "invertir_lineas(archivo_entrada, archivo_salida)\n",
        "\n",
        "print(f\"Se han invertido las líneas del archivo '{archivo_entrada}' y se han guardado en el archivo '{archivo_salida}'.\")\n",
        "#Este programa utiliza la función open para abrir el archivo de entrada en modo lectura ('r')\n"
      ]
    }
  ]
}