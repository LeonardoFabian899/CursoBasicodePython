{
  "nbformat": 4,
  "nbformat_minor": 0,
  "metadata": {
    "colab": {
      "provenance": [],
      "include_colab_link": true
    },
    "kernelspec": {
      "name": "python3",
      "display_name": "Python 3"
    },
    "language_info": {
      "name": "python"
    }
  },
  "cells": [
    {
      "cell_type": "markdown",
      "metadata": {
        "id": "view-in-github",
        "colab_type": "text"
      },
      "source": [
        "<a href=\"https://colab.research.google.com/github/LeonardoFabian899/CursoBasicodePython/blob/main/Actividad_8.ipynb\" target=\"_parent\"><img src=\"https://colab.research.google.com/assets/colab-badge.svg\" alt=\"Open In Colab\"/></a>"
      ]
    },
    {
      "cell_type": "code",
      "execution_count": 2,
      "metadata": {
        "colab": {
          "base_uri": "https://localhost:8080/"
        },
        "id": "LwXf8nbH7fXn",
        "outputId": "e6e6b9d6-3139-4610-cea9-e0b2b99af78f"
      },
      "outputs": [
        {
          "output_type": "stream",
          "name": "stdout",
          "text": [
            "Se han invertido las líneas del archivo 'entrada.txt' y se han guardado en el archivo 'salida.txt'.\n"
          ]
        }
      ],
      "source": [
        "from collections import OrderedDict, Counter\n",
        "import re\n",
        "\n",
        "def invertir_lineas(nombre_archivo_entrada, nombre_archivo_salida):\n",
        "    with open(nombre_archivo_entrada, 'r') as archivo_entrada:\n",
        "        lineas = archivo_entrada.readlines()\n",
        "\n",
        "    lineas_invertidas = lineas[::-1]\n",
        "\n",
        "    with open(nombre_archivo_salida, 'w') as archivo_salida:\n",
        "        archivo_salida.writelines(lineas_invertidas)\n",
        "\n",
        "# Nombre del archivo de entrada y salida\n",
        "archivo_entrada = 'entrada.txt'\n",
        "archivo_salida = 'salida.txt'\n",
        "\n",
        "# Llamar a la función para invertir las líneas\n",
        "invertir_lineas(archivo_entrada, archivo_salida)\n",
        "\n",
        "print(f\"Se han invertido las líneas del archivo '{archivo_entrada}' y se han guardado en el archivo '{archivo_salida}'.\")\n",
        "#Este programa utiliza la función open para abrir el archivo de entrada en modo lectura ('r')\n"
      ]
    },
    {
      "cell_type": "code",
      "source": [
        "f = open ('entrada.txt','r',encoding='utf-8')\n",
        "mensaje = f.read()\n",
        "print(mensaje)"
      ],
      "metadata": {
        "colab": {
          "base_uri": "https://localhost:8080/"
        },
        "id": "yhq5-ImF3uNS",
        "outputId": "fb4b28a3-f4e2-4d20-b45f-22521b85a25a"
      },
      "execution_count": 3,
      "outputs": [
        {
          "output_type": "stream",
          "name": "stdout",
          "text": [
            "Hola, esta es la línea 1.\n",
            "Esta es la línea 2.\n",
            "Y aquí la línea 3.\n"
          ]
        }
      ]
    },
    {
      "cell_type": "code",
      "source": [
        "f = open ('salida.txt','r',encoding='utf-8')\n",
        "mensaje = f.read()\n",
        "print(mensaje)"
      ],
      "metadata": {
        "colab": {
          "base_uri": "https://localhost:8080/"
        },
        "id": "qH5AELWP8nE8",
        "outputId": "1ff7c214-7cd9-43c5-ca45-e91f439697c5"
      },
      "execution_count": 4,
      "outputs": [
        {
          "output_type": "stream",
          "name": "stdout",
          "text": [
            "Y aquí la línea 3.Esta es la línea 2.\n",
            "Hola, esta es la línea 1.\n",
            "\n"
          ]
        }
      ]
    },
    {
      "cell_type": "code",
      "execution_count": 27,
      "metadata": {
        "id": "HQt7oTBGfL9l"
      },
      "outputs": [],
      "source": [
        "#sentence = \"The quick brown fox jumps over the lazy dog\"\n",
        "#words = sentence.split()\n",
        "# can make a list of tuples or list of lists\n",
        "wlist = [(w.upper(), w.lower(), len(w)) for w in \"Hola, esta es la línea 1. Esta es la línea 2. Y aquí la línea 3.\".split()]"
      ]
    },
    {
      "cell_type": "code",
      "execution_count": 29,
      "metadata": {
        "id": "yeVxihqtfL9l",
        "outputId": "3a509905-5976-4c8f-c167-f801918b2f57",
        "colab": {
          "base_uri": "https://localhost:8080/"
        }
      },
      "outputs": [
        {
          "output_type": "execute_result",
          "data": {
            "text/plain": [
              "[('HOLA,', 'hola,', 5),\n",
              " ('ESTA', 'esta', 4),\n",
              " ('ES', 'es', 2),\n",
              " ('LA', 'la', 2),\n",
              " ('LÍNEA', 'línea', 5),\n",
              " ('1.', '1.', 2),\n",
              " ('ESTA', 'esta', 4),\n",
              " ('ES', 'es', 2),\n",
              " ('LA', 'la', 2),\n",
              " ('LÍNEA', 'línea', 5),\n",
              " ('2.', '2.', 2),\n",
              " ('Y', 'y', 1),\n",
              " ('AQUÍ', 'aquí', 4),\n",
              " ('LA', 'la', 2),\n",
              " ('LÍNEA', 'línea', 5),\n",
              " ('3.', '3.', 2)]"
            ]
          },
          "metadata": {},
          "execution_count": 29
        }
      ],
      "source": [
        "wlist"
      ]
    }
  ]
}