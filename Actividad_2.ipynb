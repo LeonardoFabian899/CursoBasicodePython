{
  "nbformat": 4,
  "nbformat_minor": 0,
  "metadata": {
    "colab": {
      "provenance": [],
      "authorship_tag": "ABX9TyMTG7hna0CNqSw/IgizKMQm",
      "include_colab_link": true
    },
    "kernelspec": {
      "name": "python3",
      "display_name": "Python 3"
    },
    "language_info": {
      "name": "python"
    }
  },
  "cells": [
    {
      "cell_type": "markdown",
      "metadata": {
        "id": "view-in-github",
        "colab_type": "text"
      },
      "source": [
        "<a href=\"https://colab.research.google.com/github/LeonardoFabian899/CursoBasicodePython/blob/main/Actividad_2.ipynb\" target=\"_parent\"><img src=\"https://colab.research.google.com/assets/colab-badge.svg\" alt=\"Open In Colab\"/></a>"
      ]
    },
    {
      "cell_type": "code",
      "execution_count": 1,
      "metadata": {
        "colab": {
          "base_uri": "https://localhost:8080/"
        },
        "id": "0iATe4K4jKTt",
        "outputId": "c0777a5f-7c41-4c0e-b9c3-6bb887c1eac0"
      },
      "outputs": [
        {
          "name": "stdout",
          "output_type": "stream",
          "text": [
            " DAME EL VALOR DEL RADIO 200\n"
          ]
        }
      ],
      "source": [
        "from typing_extensions import final\n",
        "# Programa que calcula el área y perímetro de un circulo\n",
        "r = float(input(\" DAME EL VALOR DEL RADIO \")) #solicita el valor del radio\n",
        "pi = 3.14159 #asignamos el valor a la constante pi\n",
        "area = (pi * r * r)\n",
        "perimetro = ((2*pi)* r)"
      ]
    },
    {
      "cell_type": "code",
      "source": [
        "print(type(area)) #verificamos el tipo de variable de salida\n",
        "print(type(perimetro)) #verificamos el tipo de variable de salida\n",
        "print (\"el área del circulo es \",area)\n",
        "print (\"el perímetro del circulo es  \",perimetro)"
      ],
      "metadata": {
        "colab": {
          "base_uri": "https://localhost:8080/"
        },
        "id": "uSV6azkK-H4o",
        "outputId": "8d140f95-ad7c-4262-80a6-0475e2bfb1dd"
      },
      "execution_count": 2,
      "outputs": [
        {
          "output_type": "stream",
          "name": "stdout",
          "text": [
            "<class 'float'>\n",
            "<class 'float'>\n",
            "el área del circulo es  125663.59999999999\n",
            "el perímetro del circulo es   1256.636\n"
          ]
        }
      ]
    }
  ]
}