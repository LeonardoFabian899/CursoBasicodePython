{
  "nbformat": 4,
  "nbformat_minor": 0,
  "metadata": {
    "colab": {
      "provenance": [],
      "authorship_tag": "ABX9TyM802pLnhbY4ssZj9N0tQAk",
      "include_colab_link": true
    },
    "kernelspec": {
      "name": "python3",
      "display_name": "Python 3"
    },
    "language_info": {
      "name": "python"
    }
  },
  "cells": [
    {
      "cell_type": "markdown",
      "metadata": {
        "id": "view-in-github",
        "colab_type": "text"
      },
      "source": [
        "<a href=\"https://colab.research.google.com/github/LeonardoFabian899/CursoBasicodePython/blob/main/Actividad_2.ipynb\" target=\"_parent\"><img src=\"https://colab.research.google.com/assets/colab-badge.svg\" alt=\"Open In Colab\"/></a>"
      ]
    },
    {
      "cell_type": "markdown",
      "source": [
        "#Area y circunfercia del Circulo"
      ],
      "metadata": {
        "id": "5AuCO4x__B8w"
      }
    },
    {
      "cell_type": "code",
      "execution_count": null,
      "metadata": {
        "colab": {
          "base_uri": "https://localhost:8080/"
        },
        "id": "0iATe4K4jKTt",
        "outputId": "534c7da3-9f54-4d2d-a4c7-f8ffe3440320"
      },
      "outputs": [
        {
          "name": "stdout",
          "output_type": "stream",
          "text": [
            " El valor de la circunferencia es 10\n"
          ]
        }
      ],
      "source": [
        "from typing_extensions import final\n",
        "# Programa que calcula el área y circunferencia de un circulo\n",
        "r = float(input(\" El valor de la circunferencia es \")) #solicita el valor del radio\n",
        "pi = 3.14159 #asignamos el valor a la constante pi\n",
        "area = (pi * r * r)\n",
        "circunferencia = ((2*pi)* r)"
      ]
    },
    {
      "cell_type": "code",
      "source": [
        "print(type(area)) #verificamos el tipo de variable de salida\n",
        "print(type(circunferencia)) #verificamos el tipo de variable de salida\n",
        "print (\"el área del circulo es \",area)\n",
        "print (\"la circunferencia del circulo es  \",circunferencia)"
      ],
      "metadata": {
        "colab": {
          "base_uri": "https://localhost:8080/"
        },
        "id": "uSV6azkK-H4o",
        "outputId": "3abca1fc-af9d-4346-bbb3-4263e2b5ab19"
      },
      "execution_count": null,
      "outputs": [
        {
          "output_type": "stream",
          "name": "stdout",
          "text": [
            "<class 'float'>\n",
            "<class 'float'>\n",
            "el área del circulo es  314.159\n",
            "la circunferencia del circulo es   62.8318\n"
          ]
        }
      ]
    }
  ]
}