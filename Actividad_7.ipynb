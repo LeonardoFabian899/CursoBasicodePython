{
  "nbformat": 4,
  "nbformat_minor": 0,
  "metadata": {
    "colab": {
      "provenance": [],
      "authorship_tag": "ABX9TyN5u5ifX0THSLwG2OMlpGAS",
      "include_colab_link": true
    },
    "kernelspec": {
      "name": "python3",
      "display_name": "Python 3"
    },
    "language_info": {
      "name": "python"
    }
  },
  "cells": [
    {
      "cell_type": "markdown",
      "metadata": {
        "id": "view-in-github",
        "colab_type": "text"
      },
      "source": [
        "<a href=\"https://colab.research.google.com/github/LeonardoFabian899/CursoBasicodePython/blob/main/Actividad_7.ipynb\" target=\"_parent\"><img src=\"https://colab.research.google.com/assets/colab-badge.svg\" alt=\"Open In Colab\"/></a>"
      ]
    },
    {
      "cell_type": "markdown",
      "metadata": {
        "id": "pQmWIfc2v_4A"
      },
      "source": [
        "## 5.8 Ejercicios\n"
      ]
    },
    {
      "cell_type": "markdown",
      "source": [
        "Ejemplo 1. Imprime cada fruta en una lista de frutas:"
      ],
      "metadata": {
        "id": "NgIOc2nOLWPX"
      }
    },
    {
      "cell_type": "code",
      "source": [
        "fruits = [\"manzana\", \"platano\", \"cereza\"]\n"
      ],
      "metadata": {
        "colab": {
          "base_uri": "https://localhost:8080/"
        },
        "id": "VR5EiTBVLVwv",
        "outputId": "340da41a-ab9a-4ccb-c491-92b16c1dc720"
      },
      "execution_count": null,
      "outputs": [
        {
          "output_type": "stream",
          "name": "stdout",
          "text": [
            "Fruta 1: manzana\n",
            "Fruta 2: platano\n",
            "Fruta 3: cereza\n"
          ]
        }
      ]
    },
    {
      "cell_type": "code",
      "source": [],
      "metadata": {
        "id": "p7OFd-y7MXL5"
      },
      "execution_count": null,
      "outputs": []
    },
    {
      "cell_type": "markdown",
      "source": [
        "Ejercicio: Ajustar el código para que pinte"
      ],
      "metadata": {
        "id": "lqmUY_zuMc-b"
      }
    },
    {
      "cell_type": "code",
      "source": [],
      "metadata": {
        "id": "SFUQyNHSYsfk"
      },
      "execution_count": null,
      "outputs": []
    },
    {
      "cell_type": "code",
      "source": [
        "adj = [\"roja\", \"grande\", \"dulce\"]\n",
        "fruits = [\"manzana\", \"platano\", \"cereza\"]\n",
        "for i in range(3):\n",
        "  print(f\"{adj[0]} {fruits[i]}\")\n",
        "for i in range(3):\n",
        "  print(f\"{adj[1]} {fruits[i]}\")\n",
        "for i in range(3):\n",
        "  print(f\"{adj[2]} {fruits[i]}\")"
      ],
      "metadata": {
        "colab": {
          "base_uri": "https://localhost:8080/"
        },
        "id": "AGmvEWCVMRZY",
        "outputId": "205406be-c9ae-4935-a14a-cba3593e7fa1"
      },
      "execution_count": null,
      "outputs": [
        {
          "output_type": "stream",
          "name": "stdout",
          "text": [
            "roja manzana\n",
            "roja platano\n",
            "roja cereza\n",
            "grande manzana\n",
            "grande platano\n",
            "grande cereza\n",
            "dulce manzana\n",
            "dulce platano\n",
            "dulce cereza\n"
          ]
        }
      ]
    },
    {
      "cell_type": "code",
      "source": [
        "adj = [\"roja\", \"grande\", \"dulce\"]\n",
        "fruits = [\"manzana\", \"platano\", \"cereza\"]\n"
      ],
      "metadata": {
        "colab": {
          "base_uri": "https://localhost:8080/"
        },
        "id": "JkziziTcL0e7",
        "outputId": "70f83f9c-3df8-45b3-8b60-c086574a1573"
      },
      "execution_count": null,
      "outputs": [
        {
          "output_type": "stream",
          "name": "stdout",
          "text": [
            "Fruta (1, 1): roja manzana\n",
            "Fruta (1, 2): roja platano\n",
            "Fruta (1, 3): roja cereza\n",
            "Fruta (2, 4): grande manzana\n",
            "Fruta (2, 5): grande platano\n",
            "Fruta (2, 6): grande cereza\n",
            "Fruta (3, 7): dulce manzana\n",
            "Fruta (3, 8): dulce platano\n",
            "Fruta (3, 9): dulce cereza\n"
          ]
        }
      ]
    },
    {
      "cell_type": "markdown",
      "source": [
        "Ejercicio A.Escribir un programa que pregunte al usuario su edad y muestre por pantalla todos los años que ha cumplido (desde 1 hasta su edad).\n",
        "\n",
        "¿Cuántos años tienes?  5\n",
        "\n",
        "Has cumplido 1 años\n",
        "\n",
        "Has cumplido 2 años\n",
        "\n",
        "Has cumplido 3 años\n",
        "\n",
        "Has cumplido 4 años\n",
        "\n",
        "Has cumplido 5 años\n"
      ],
      "metadata": {
        "id": "qDN7-8ztSE41"
      }
    },
    {
      "cell_type": "code",
      "source": [
        "edad = int(input(\"¿Cuántos años tienes? \"))\n",
        "for i in range(1,edad+1):\n",
        "  print('mas cumplido',i,'años')"
      ],
      "metadata": {
        "id": "39l6sSMUST36",
        "colab": {
          "base_uri": "https://localhost:8080/"
        },
        "outputId": "d1840441-3026-4849-c9cc-7fe9d54d9fcd"
      },
      "execution_count": null,
      "outputs": [
        {
          "output_type": "stream",
          "name": "stdout",
          "text": [
            "¿Cuántos años tienes? 5\n",
            "mas cumplido 1 años\n",
            "mas cumplido 2 años\n",
            "mas cumplido 3 años\n",
            "mas cumplido 4 años\n",
            "mas cumplido 5 años\n"
          ]
        }
      ]
    },
    {
      "cell_type": "code",
      "source": [],
      "metadata": {
        "colab": {
          "base_uri": "https://localhost:8080/"
        },
        "id": "kuA5ixYNIKqp",
        "outputId": "724a7d8a-2ffa-443c-cf0c-81d10a5d97b0"
      },
      "execution_count": null,
      "outputs": [
        {
          "output_type": "stream",
          "name": "stdout",
          "text": [
            "Ingrese su edad: 5\n",
            "Ha cumplido 1 años\n",
            "Ha cumplido 2 años\n",
            "Ha cumplido 3 años\n",
            "Ha cumplido 4 años\n",
            "Ha cumplido 5 años\n"
          ]
        }
      ]
    },
    {
      "cell_type": "markdown",
      "source": [
        "Ejercicio A2. Realiza un programa que solicita al usuario ingresar números hasta que ingrese 0, luego muestra la suma de los números ingresados.\n"
      ],
      "metadata": {
        "id": "IK28e2x_Iid9"
      }
    },
    {
      "cell_type": "code",
      "source": [
        "suma = 0\n",
        "while True:\n",
        " numeros = int(input('Ingrese un numero: '))\n",
        " if numeros == 0:\n",
        "  print(suma)\n",
        "  break\n",
        " else:\n",
        "  suma = suma + numeros\n",
        "print(f'La suma es: (suma)')"
      ],
      "metadata": {
        "colab": {
          "base_uri": "https://localhost:8080/"
        },
        "id": "yZc7rxJmIhzd",
        "outputId": "d46ce3a9-6e14-462a-f03f-c1778ae2137c"
      },
      "execution_count": null,
      "outputs": [
        {
          "output_type": "stream",
          "name": "stdout",
          "text": [
            "Ingrese un numero: 3\n",
            "Ingrese un numero: 4\n",
            "Ingrese un numero: 10\n",
            "Ingrese un numero: 0\n",
            "17\n",
            "La suma es: (suma)\n"
          ]
        }
      ]
    },
    {
      "cell_type": "markdown",
      "source": [
        "\n",
        "Ejercicio B.\n",
        "Árbol de navidad en Python. Imprime un árbol de navidad formado con * haciendo uso del while y de la multiplicación de un entero por una cadena, cuyo resultado en Python es replicar la cadena."
      ],
      "metadata": {
        "id": "NcVixJ3WSISO"
      }
    },
    {
      "cell_type": "code",
      "source": [
        "z = 7\n",
        "x = 1\n",
        "while z > 0:\n",
        "    print(' ' * z + '*' * x + '' * z)\n",
        "    x+=2\n",
        "    z-=1"
      ],
      "metadata": {
        "id": "UjZc9-MCT_jd",
        "colab": {
          "base_uri": "https://localhost:8080/"
        },
        "outputId": "8db61dff-b533-49f1-fb55-75585a2f966c"
      },
      "execution_count": null,
      "outputs": [
        {
          "output_type": "stream",
          "name": "stdout",
          "text": [
            "       *\n",
            "      ***\n",
            "     *****\n",
            "    *******\n",
            "   *********\n",
            "  ***********\n",
            " *************\n"
          ]
        }
      ]
    },
    {
      "cell_type": "code",
      "execution_count": null,
      "metadata": {
        "id": "EC_TmbZnv_4A"
      },
      "outputs": [],
      "source": [
        "\n",
        "#      *\n",
        "#     ***\n",
        "#    *****\n",
        "#   *******\n",
        "#  *********\n",
        "# ***********"
      ]
    },
    {
      "cell_type": "code",
      "source": [],
      "metadata": {
        "colab": {
          "base_uri": "https://localhost:8080/"
        },
        "id": "PFZaEWbrTK0c",
        "outputId": "d1bc5ff2-b9f0-467a-a4ee-5472b02ac94a"
      },
      "execution_count": null,
      "outputs": [
        {
          "output_type": "stream",
          "name": "stdout",
          "text": [
            "       *       \n",
            "      ***      \n",
            "     *****     \n",
            "    *******    \n",
            "   *********   \n",
            "  ***********  \n",
            " ************* \n"
          ]
        }
      ]
    }
  ]
}