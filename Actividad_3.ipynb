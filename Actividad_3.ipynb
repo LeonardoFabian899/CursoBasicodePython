{
  "nbformat": 4,
  "nbformat_minor": 0,
  "metadata": {
    "colab": {
      "provenance": [],
      "authorship_tag": "ABX9TyP71VIXdO0imOAZIE4bwe4z",
      "include_colab_link": true
    },
    "kernelspec": {
      "name": "python3",
      "display_name": "Python 3"
    },
    "language_info": {
      "name": "python"
    }
  },
  "cells": [
    {
      "cell_type": "markdown",
      "metadata": {
        "id": "view-in-github",
        "colab_type": "text"
      },
      "source": [
        "<a href=\"https://colab.research.google.com/github/LeonardoFabian899/CursoBasicodePython/blob/main/Actividad_3.ipynb\" target=\"_parent\"><img src=\"https://colab.research.google.com/assets/colab-badge.svg\" alt=\"Open In Colab\"/></a>"
      ]
    },
    {
      "cell_type": "markdown",
      "source": [
        "#Creando una funcion con argumentos"
      ],
      "metadata": {
        "id": "MneL1qBGAhjd"
      }
    },
    {
      "cell_type": "code",
      "source": [
        "# Nivel basico\n",
        "def area_cuadrado(lado):\n",
        "  \"\"\"Calcula el area 0de un cuadrado\"\"\"\n",
        "  area = lado * lado\n",
        "  return area"
      ],
      "metadata": {
        "id": "7NTIG954AgFP"
      },
      "execution_count": 7,
      "outputs": []
    },
    {
      "cell_type": "code",
      "source": [
        "from typing import Union\n",
        "\n",
        "# Nivel intermedio-avnzado\n",
        "def area_cuadrado(lado: float) -> Union[int, float]:\n",
        "  \"\"\"Calcula el area de un cuadrado\"\"\"\n",
        "  area = lado * lado\n",
        "  return area"
      ],
      "metadata": {
        "id": "t96bg51RCOru"
      },
      "execution_count": 8,
      "outputs": []
    },
    {
      "cell_type": "code",
      "source": [
        "area_cuadrado(4.0)"
      ],
      "metadata": {
        "colab": {
          "base_uri": "https://localhost:8080/"
        },
        "id": "LNP-aO9vEBCe",
        "outputId": "67cc97fe-aded-4912-bd48-176fe53ce188"
      },
      "execution_count": 9,
      "outputs": [
        {
          "output_type": "execute_result",
          "data": {
            "text/plain": [
              "16.0"
            ]
          },
          "metadata": {},
          "execution_count": 9
        }
      ]
    },
    {
      "cell_type": "markdown",
      "source": [],
      "metadata": {
        "id": "1wK-2w1M5GaR"
      }
    },
    {
      "cell_type": "code",
      "source": [
        "help(area_cuadrado)"
      ],
      "metadata": {
        "colab": {
          "base_uri": "https://localhost:8080/"
        },
        "id": "k-HARRh7DBgp",
        "outputId": "b50da02c-46fb-460a-9d3c-aa380bf1e15d"
      },
      "execution_count": 10,
      "outputs": [
        {
          "output_type": "stream",
          "name": "stdout",
          "text": [
            "Help on function area_cuadrado in module __main__:\n",
            "\n",
            "area_cuadrado(lado: float) -> Union[int, float]\n",
            "    Calcula el area de un cuadrado\n",
            "\n"
          ]
        }
      ]
    },
    {
      "cell_type": "markdown",
      "source": [
        "Area de un rectangulo"
      ],
      "metadata": {
        "id": "8YUiGBW6Fbhj"
      }
    },
    {
      "cell_type": "code",
      "source": [
        "def area_rectangulo(base , altura):\n",
        "  \"\"\"Calcula el area de un rectangulo\"\"\"\n",
        "  area = base * altura\n",
        "  return area"
      ],
      "metadata": {
        "id": "50n2SolAEnny"
      },
      "execution_count": 11,
      "outputs": []
    },
    {
      "cell_type": "code",
      "source": [
        "area_rectangulo(4 , 2)"
      ],
      "metadata": {
        "colab": {
          "base_uri": "https://localhost:8080/"
        },
        "id": "fdXS_pCZFEe2",
        "outputId": "a5eebf1d-ca65-4cd9-9c6d-ec5f6e738b61"
      },
      "execution_count": 12,
      "outputs": [
        {
          "output_type": "execute_result",
          "data": {
            "text/plain": [
              "8"
            ]
          },
          "metadata": {},
          "execution_count": 12
        }
      ]
    },
    {
      "cell_type": "code",
      "source": [
        "help(area_rectangulo)"
      ],
      "metadata": {
        "colab": {
          "base_uri": "https://localhost:8080/"
        },
        "id": "e9q04Cq9JrVf",
        "outputId": "7f33a009-d305-46ce-d3e0-aee487a8f10b"
      },
      "execution_count": 13,
      "outputs": [
        {
          "output_type": "stream",
          "name": "stdout",
          "text": [
            "Help on function area_rectangulo in module __main__:\n",
            "\n",
            "area_rectangulo(base, altura)\n",
            "    Calcula el area de un rectangulo\n",
            "\n"
          ]
        }
      ]
    },
    {
      "cell_type": "markdown",
      "source": [
        "Perimetro de rectangulo"
      ],
      "metadata": {
        "id": "hdRCy0D-Few1"
      }
    },
    {
      "cell_type": "code",
      "source": [
        "def perimetro_rectangulo(base , altura):\n",
        "  \"\"\"Calcula el perimetro de un rectangulo\"\"\"\n",
        "  area = base + base + altura + altura\n",
        "  return area"
      ],
      "metadata": {
        "id": "5FbHeNjLHWCg"
      },
      "execution_count": 14,
      "outputs": []
    },
    {
      "cell_type": "code",
      "source": [
        "perimetro_rectangulo(4 , 2)"
      ],
      "metadata": {
        "colab": {
          "base_uri": "https://localhost:8080/"
        },
        "outputId": "9105dad2-4ff7-4e37-b7d3-c9c8c1519249",
        "id": "hDH4bKXEGR9L"
      },
      "execution_count": 15,
      "outputs": [
        {
          "output_type": "execute_result",
          "data": {
            "text/plain": [
              "12"
            ]
          },
          "metadata": {},
          "execution_count": 15
        }
      ]
    },
    {
      "cell_type": "code",
      "source": [
        "help(perimetro_rectangulo)"
      ],
      "metadata": {
        "colab": {
          "base_uri": "https://localhost:8080/"
        },
        "id": "PcHGfdtCJ1Od",
        "outputId": "7fcc1ed4-999e-4fe6-ba78-d4735c058136"
      },
      "execution_count": 16,
      "outputs": [
        {
          "output_type": "stream",
          "name": "stdout",
          "text": [
            "Help on function perimetro_rectangulo in module __main__:\n",
            "\n",
            "perimetro_rectangulo(base, altura)\n",
            "    Calcula el perimetro de un rectangulo\n",
            "\n"
          ]
        }
      ]
    },
    {
      "cell_type": "markdown",
      "source": [
        "Area de un circulo"
      ],
      "metadata": {
        "id": "kOKdC00QHEMv"
      }
    },
    {
      "cell_type": "code",
      "source": [
        "import math\n",
        "def area_circulo(radio):\n",
        "  \"\"\"Calcula el area de un circulo\"\"\"\n",
        "  area = math.pi * radio\n",
        "  return area"
      ],
      "metadata": {
        "id": "q5nzRekNHayO"
      },
      "execution_count": 17,
      "outputs": []
    },
    {
      "cell_type": "code",
      "source": [
        "math.pi"
      ],
      "metadata": {
        "colab": {
          "base_uri": "https://localhost:8080/"
        },
        "id": "T82xq9a0Isyr",
        "outputId": "dcc2c228-cac0-4438-a82d-44e6d648b918"
      },
      "execution_count": 18,
      "outputs": [
        {
          "output_type": "execute_result",
          "data": {
            "text/plain": [
              "3.141592653589793"
            ]
          },
          "metadata": {},
          "execution_count": 18
        }
      ]
    },
    {
      "cell_type": "code",
      "source": [
        "area_circulo(8)"
      ],
      "metadata": {
        "colab": {
          "base_uri": "https://localhost:8080/"
        },
        "outputId": "a364b07e-79dd-40af-93d5-68a8824c2285",
        "id": "MpRyVgZvHwRV"
      },
      "execution_count": 19,
      "outputs": [
        {
          "output_type": "execute_result",
          "data": {
            "text/plain": [
              "25.132741228718345"
            ]
          },
          "metadata": {},
          "execution_count": 19
        }
      ]
    },
    {
      "cell_type": "code",
      "source": [
        "help(area_circulo)"
      ],
      "metadata": {
        "colab": {
          "base_uri": "https://localhost:8080/"
        },
        "id": "hg6DEVqSKAtT",
        "outputId": "842456ec-aa54-480a-864e-05165bf9badb"
      },
      "execution_count": 20,
      "outputs": [
        {
          "output_type": "stream",
          "name": "stdout",
          "text": [
            "Help on function area_circulo in module __main__:\n",
            "\n",
            "area_circulo(radio)\n",
            "    Calcula el area de un circulo\n",
            "\n"
          ]
        }
      ]
    },
    {
      "cell_type": "markdown",
      "source": [
        "Perimetro de un circulo"
      ],
      "metadata": {
        "id": "StEgTzZ4YYMo"
      }
    },
    {
      "cell_type": "code",
      "source": [
        "import math\n",
        "def perimetro_circulo(radio):\n",
        "  \"\"\"Calcula el perimetro de un circulo\"\"\"\n",
        "  perimetro_circulo = 2 * math.pi * pow(radio , 2)\n",
        "  return perimetro_circulo"
      ],
      "metadata": {
        "id": "QGm75rujYTsy"
      },
      "execution_count": 21,
      "outputs": []
    },
    {
      "cell_type": "code",
      "source": [
        "math.pi"
      ],
      "metadata": {
        "colab": {
          "base_uri": "https://localhost:8080/"
        },
        "id": "ln9I3q6pZ4N3",
        "outputId": "d1d29f63-2c20-4feb-cb05-98c18e2774d3"
      },
      "execution_count": 22,
      "outputs": [
        {
          "output_type": "execute_result",
          "data": {
            "text/plain": [
              "3.141592653589793"
            ]
          },
          "metadata": {},
          "execution_count": 22
        }
      ]
    },
    {
      "cell_type": "code",
      "source": [
        "perimetro_circulo(23)"
      ],
      "metadata": {
        "colab": {
          "base_uri": "https://localhost:8080/"
        },
        "id": "lTx2IBiw4iGX",
        "outputId": "5a9a64a7-621f-4188-95f2-0212f95effc8"
      },
      "execution_count": 5,
      "outputs": [
        {
          "output_type": "execute_result",
          "data": {
            "text/plain": [
              "3323.805027498001"
            ]
          },
          "metadata": {},
          "execution_count": 5
        }
      ]
    },
    {
      "cell_type": "code",
      "source": [
        "help(perimetro_circulo)"
      ],
      "metadata": {
        "colab": {
          "base_uri": "https://localhost:8080/"
        },
        "id": "ByxCDTPq_4eW",
        "outputId": "2ec48b4e-4b5f-449d-b53b-e37823261194"
      },
      "execution_count": 6,
      "outputs": [
        {
          "output_type": "stream",
          "name": "stdout",
          "text": [
            "Help on function perimetro_circulo in module __main__:\n",
            "\n",
            "perimetro_circulo(radio)\n",
            "    Calcula el perimetro de un circulo\n",
            "\n"
          ]
        }
      ]
    }
  ]
}