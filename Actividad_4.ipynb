{
  "nbformat": 4,
  "nbformat_minor": 0,
  "metadata": {
    "colab": {
      "provenance": [],
      "authorship_tag": "ABX9TyNvc2SuYPWvx4gfihLxRXPz",
      "include_colab_link": true
    },
    "kernelspec": {
      "name": "python3",
      "display_name": "Python 3"
    },
    "language_info": {
      "name": "python"
    }
  },
  "cells": [
    {
      "cell_type": "markdown",
      "metadata": {
        "id": "view-in-github",
        "colab_type": "text"
      },
      "source": [
        "<a href=\"https://colab.research.google.com/github/LeonardoFabian899/CursoBasicodePython/blob/main/Actividad_4.ipynb\" target=\"_parent\"><img src=\"https://colab.research.google.com/assets/colab-badge.svg\" alt=\"Open In Colab\"/></a>"
      ]
    },
    {
      "cell_type": "code",
      "execution_count": 1,
      "metadata": {
        "colab": {
          "base_uri": "https://localhost:8080/"
        },
        "id": "F82FKf9NIEBZ",
        "outputId": "9a837728-3471-44fa-b95d-4bcc61caccef"
      },
      "outputs": [
        {
          "output_type": "stream",
          "name": "stdout",
          "text": [
            "ingrese el dia:Martes\n",
            "Ni te cases ni te embarques, que voy arriesgarme, No voy a trabajar\n"
          ]
        }
      ],
      "source": [
        "dia = input(\"ingrese el dia:\")\n",
        "if dia == 'Lunes':\n",
        "  print(\"Principio de semana ¿Principio de semana? No voy a trabajar!\")\n",
        "elif dia == 'Martes':\n",
        "  print('Ni te cases ni te embarques, que voy arriesgarme, No voy a trabajar')\n",
        "elif dia == 'Miercoles':\n",
        "  print('Se casa la patrona Ay que pachangona! No voy a trabajar!')\n",
        "elif dia == 'Jueves':\n",
        "  print('Estoy muy desvelado Me siento hasta mareado No voy a trabajar!')\n",
        "elif dia == 'Viernes':\n",
        "  print('Que muere jesucristo! Donde se ha visto? No voy a trabajar!')\n",
        "elif dia == 'Sabado':\n",
        "  print('Trabajo medio día Por medio día No voy a trabajar!')\n",
        "elif dia == 'Domingo':\n",
        "  print('Día de descanso Bien merecido No voy a trabajar!')\n",
        "else:\n",
        "  print('Dia incorrecto')"
      ]
    }
  ]
}