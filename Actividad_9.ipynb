{
  "nbformat": 4,
  "nbformat_minor": 0,
  "metadata": {
    "colab": {
      "provenance": [],
      "authorship_tag": "ABX9TyNFY5RG6wHz/8oooWFV3CYH",
      "include_colab_link": true
    },
    "kernelspec": {
      "name": "python3",
      "display_name": "Python 3"
    },
    "language_info": {
      "name": "python"
    }
  },
  "cells": [
    {
      "cell_type": "markdown",
      "metadata": {
        "id": "view-in-github",
        "colab_type": "text"
      },
      "source": [
        "<a href=\"https://colab.research.google.com/github/LeonardoFabian899/CursoBasicodePython/blob/main/Actividad_9.ipynb\" target=\"_parent\"><img src=\"https://colab.research.google.com/assets/colab-badge.svg\" alt=\"Open In Colab\"/></a>"
      ]
    },
    {
      "cell_type": "code",
      "execution_count": null,
      "metadata": {
        "id": "lYnarYfhzuuN"
      },
      "outputs": [],
      "source": [
        "f = open ('quijote.txt', 'r', encoding='utf-8')\n",
        "mensaje = f.read()\n",
        "print(mensaje)"
      ]
    },
    {
      "cell_type": "code",
      "source": [
        "num_caracteres = len(mensaje)\n",
        "num_palabras = len(mensaje)\n",
        "num_oraciones = len(mensaje)\n",
        "num_vocab = len(set([w.lower() for w in mensaje]))\n",
        "\n",
        "print('Cantidad de caracteres:',num_caracteres)\n",
        "print('Cantidad de palabras:',num_palabras)\n",
        "print('Cantidad de:',num_oraciones)\n",
        "print('Longitud promedio de una palabra:',int(num_caracteres/num_palabras))\n",
        "print('Longitud promedio de una:',int(num_palabras/num_oraciones))\n",
        "print('Diversidad lexica:',int(num_palabras/num_vocab))"
      ],
      "metadata": {
        "colab": {
          "base_uri": "https://localhost:8080/"
        },
        "id": "jIQvYow8h8QN",
        "outputId": "115628dc-c3b6-40a8-84e1-abb331bbda07"
      },
      "execution_count": 5,
      "outputs": [
        {
          "output_type": "stream",
          "name": "stdout",
          "text": [
            "Cantidad de caracteres: 2117498\n",
            "Cantidad de palabras: 2117498\n",
            "Cantidad de: 2117498\n",
            "Longitud promedio de una palabra: 1\n",
            "Longitud promedio de una: 1\n",
            "Diversidad lexica: 29409\n"
          ]
        }
      ]
    }
  ]
}